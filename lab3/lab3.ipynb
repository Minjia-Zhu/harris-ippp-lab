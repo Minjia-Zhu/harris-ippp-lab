{
 "cells": [
  {
   "cell_type": "markdown",
   "metadata": {},
   "source": [
    "# HW1 - Q3 Common Mistakes"
   ]
  },
  {
   "cell_type": "code",
   "execution_count": null,
   "metadata": {},
   "outputs": [],
   "source": [
    "$ grep 'P' salaries.csv | wc -l\n",
    "$ grep ',P' salaries.csv |  wc -l \n",
    "$ grep 'Hourly' salaries.csv | wc -l"
   ]
  },
  {
   "cell_type": "code",
   "execution_count": null,
   "metadata": {},
   "outputs": [],
   "source": [
    "# Correct Answer: 2093\n",
    "$ grep ',P,' salaries.csv | wc -l"
   ]
  },
  {
   "cell_type": "markdown",
   "metadata": {},
   "source": [
    "####  Question: why there is common before and after \"P\"?"
   ]
  },
  {
   "cell_type": "markdown",
   "metadata": {},
   "source": [
    "# Python Function "
   ]
  },
  {
   "cell_type": "markdown",
   "metadata": {},
   "source": [
    "Functions are a convenient way to divide your code into useful blocks, allowing us to order our code, make it more readable, reuse it and save some time"
   ]
  },
  {
   "cell_type": "code",
   "execution_count": 1,
   "metadata": {},
   "outputs": [],
   "source": [
    "def my_function():\n",
    "    print(\"Hello From My Function!\")"
   ]
  },
  {
   "cell_type": "code",
   "execution_count": 4,
   "metadata": {},
   "outputs": [
    {
     "name": "stdout",
     "output_type": "stream",
     "text": [
      "Hello From My Function!\n"
     ]
    }
   ],
   "source": [
    "my_function()"
   ]
  },
  {
   "cell_type": "code",
   "execution_count": 2,
   "metadata": {},
   "outputs": [],
   "source": [
    "def my_function_with_args(username, greeting):\n",
    "    print(\"Hello, %s , From My Function!, I wish you %s\"%(username, greeting))"
   ]
  },
  {
   "cell_type": "code",
   "execution_count": 5,
   "metadata": {},
   "outputs": [
    {
     "name": "stdout",
     "output_type": "stream",
     "text": [
      "Hello, minjiaz , From My Function!, I wish you happy coding\n"
     ]
    }
   ],
   "source": [
    "my_function_with_args(\"minjiaz\", \"happy coding\")"
   ]
  },
  {
   "cell_type": "markdown",
   "metadata": {},
   "source": [
    "# Interactive Input -  Keyboard input"
   ]
  },
  {
   "cell_type": "code",
   "execution_count": null,
   "metadata": {},
   "outputs": [],
   "source": [
    "name = input(\"What's your name? \")\n",
    "print(\"Nice to meet you \" + name + \"!\")\n",
    "age = float(input(\"Your age? \"))\n",
    "print(type(age))\n",
    "print(\"So, you are already \" + age + \" years old, \" + name + \"!\")"
   ]
  },
  {
   "cell_type": "markdown",
   "metadata": {},
   "source": [
    "### What causes this error? How to fix that?"
   ]
  },
  {
   "cell_type": "markdown",
   "metadata": {},
   "source": [
    "# Bisection Search Algorithm"
   ]
  },
  {
   "cell_type": "code",
   "execution_count": 4,
   "metadata": {},
   "outputs": [],
   "source": [
    "def sqrt(x):\n",
    "    '''\n",
    "    Find the square root of x\n",
    "    '''\n",
    "    a = 0\n",
    "    b = x\n",
    "    keep_interation = True\n",
    "    n = 0\n",
    "    while keep_interation:\n",
    "        n += 1\n",
    "        print(\"interation round:\"+ str(n))\n",
    "        c = (a+b)/2\n",
    "        Fc = c**2 - x\n",
    "        if abs(Fc) < 0.00001:\n",
    "            return c\n",
    "        elif Fc < 0:\n",
    "            a = c\n",
    "        else:\n",
    "            b = c"
   ]
  },
  {
   "cell_type": "code",
   "execution_count": 5,
   "metadata": {},
   "outputs": [
    {
     "name": "stdout",
     "output_type": "stream",
     "text": [
      "interation round:1\n",
      "interation round:2\n",
      "interation round:3\n",
      "interation round:4\n",
      "interation round:5\n",
      "interation round:6\n",
      "interation round:7\n",
      "interation round:8\n",
      "interation round:9\n",
      "interation round:10\n",
      "interation round:11\n",
      "interation round:12\n",
      "interation round:13\n",
      "interation round:14\n",
      "interation round:15\n",
      "interation round:16\n"
     ]
    },
    {
     "data": {
      "text/plain": [
       "1.414215087890625"
      ]
     },
     "execution_count": 5,
     "metadata": {},
     "output_type": "execute_result"
    }
   ],
   "source": [
    "sqrt(2)"
   ]
  },
  {
   "cell_type": "code",
   "execution_count": 6,
   "metadata": {},
   "outputs": [
    {
     "name": "stdout",
     "output_type": "stream",
     "text": [
      "interation round:1\n",
      "interation round:2\n",
      "interation round:3\n",
      "interation round:4\n",
      "interation round:5\n",
      "interation round:6\n",
      "interation round:7\n",
      "interation round:8\n",
      "interation round:9\n",
      "interation round:10\n",
      "interation round:11\n",
      "interation round:12\n",
      "interation round:13\n",
      "interation round:14\n",
      "interation round:15\n",
      "interation round:16\n",
      "interation round:17\n",
      "interation round:18\n",
      "interation round:19\n",
      "interation round:20\n",
      "interation round:21\n",
      "interation round:22\n",
      "interation round:23\n",
      "interation round:24\n",
      "interation round:25\n",
      "interation round:26\n",
      "interation round:27\n"
     ]
    },
    {
     "data": {
      "text/plain": [
       "10.000000149011612"
      ]
     },
     "execution_count": 6,
     "metadata": {},
     "output_type": "execute_result"
    }
   ],
   "source": [
    "sqrt(100)"
   ]
  },
  {
   "cell_type": "code",
   "execution_count": 34,
   "metadata": {},
   "outputs": [
    {
     "name": "stdout",
     "output_type": "stream",
     "text": [
      "interation round:1\n",
      "interation round:2\n",
      "interation round:3\n",
      "interation round:4\n",
      "interation round:5\n",
      "interation round:6\n",
      "interation round:7\n",
      "interation round:8\n",
      "interation round:9\n",
      "interation round:10\n",
      "interation round:11\n",
      "interation round:12\n",
      "interation round:13\n",
      "interation round:14\n",
      "interation round:15\n",
      "interation round:16\n",
      "interation round:17\n",
      "interation round:18\n",
      "interation round:19\n",
      "interation round:20\n",
      "interation round:21\n",
      "interation round:22\n",
      "interation round:23\n",
      "interation round:24\n",
      "interation round:25\n",
      "interation round:26\n",
      "interation round:27\n",
      "interation round:28\n",
      "interation round:29\n",
      "interation round:30\n",
      "interation round:31\n",
      "interation round:32\n"
     ]
    },
    {
     "data": {
      "text/plain": [
       "31.622776528820395"
      ]
     },
     "execution_count": 34,
     "metadata": {},
     "output_type": "execute_result"
    }
   ],
   "source": [
    "sqrt(1000)"
   ]
  },
  {
   "cell_type": "code",
   "execution_count": null,
   "metadata": {},
   "outputs": [],
   "source": []
  }
 ],
 "metadata": {
  "kernelspec": {
   "display_name": "Python 2",
   "language": "python",
   "name": "python2"
  },
  "language_info": {
   "codemirror_mode": {
    "name": "ipython",
    "version": 3
   },
   "file_extension": ".py",
   "mimetype": "text/x-python",
   "name": "python",
   "nbconvert_exporter": "python",
   "pygments_lexer": "ipython3",
   "version": "3.6.3"
  }
 },
 "nbformat": 4,
 "nbformat_minor": 2
}
