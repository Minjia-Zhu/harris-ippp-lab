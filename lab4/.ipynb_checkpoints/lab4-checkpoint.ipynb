{
 "cells": [
  {
   "cell_type": "markdown",
   "metadata": {},
   "source": [
    "# Python's slice notation\n",
    "\n"
   ]
  },
  {
   "cell_type": "raw",
   "metadata": {},
   "source": [
    "a[start:end] # items start through end-1\n",
    "a[start:]    # items start through the rest of the array\n",
    "a[:end]      # items from the beginning through end-1\n",
    "a[:]         # a copy of the whole array\n",
    "a[start:end:step] # start through not past end, by step"
   ]
  },
  {
   "cell_type": "raw",
   "metadata": {},
   "source": [
    "The key point to remember is that the :end value represents the first value that is not in the selected slice. So, the difference beween end and start is the number of elements selected (if step is 1, the default)."
   ]
  },
  {
   "cell_type": "code",
   "execution_count": 2,
   "metadata": {},
   "outputs": [],
   "source": [
    "a = [1,2,3,4,5,6,7,8,9,10]"
   ]
  },
  {
   "cell_type": "code",
   "execution_count": 6,
   "metadata": {},
   "outputs": [
    {
     "data": {
      "text/plain": [
       "10"
      ]
     },
     "execution_count": 6,
     "metadata": {},
     "output_type": "execute_result"
    }
   ],
   "source": [
    "len(a)"
   ]
  },
  {
   "cell_type": "code",
   "execution_count": 3,
   "metadata": {},
   "outputs": [
    {
     "data": {
      "text/plain": [
       "1"
      ]
     },
     "execution_count": 3,
     "metadata": {},
     "output_type": "execute_result"
    }
   ],
   "source": [
    "a[0]     # First item in the array"
   ]
  },
  {
   "cell_type": "code",
   "execution_count": 4,
   "metadata": {},
   "outputs": [
    {
     "data": {
      "text/plain": [
       "10"
      ]
     },
     "execution_count": 4,
     "metadata": {},
     "output_type": "execute_result"
    }
   ],
   "source": [
    "a[-1]    # last item in the array"
   ]
  },
  {
   "cell_type": "code",
   "execution_count": 7,
   "metadata": {},
   "outputs": [
    {
     "data": {
      "text/plain": [
       "[2, 3, 4, 5, 6, 7, 8, 9]"
      ]
     },
     "execution_count": 7,
     "metadata": {},
     "output_type": "execute_result"
    }
   ],
   "source": [
    "a[1:9]   # last two items in the array"
   ]
  },
  {
   "cell_type": "code",
   "execution_count": 5,
   "metadata": {},
   "outputs": [
    {
     "data": {
      "text/plain": [
       "[1, 2, 3, 4, 5, 6, 7, 8]"
      ]
     },
     "execution_count": 5,
     "metadata": {},
     "output_type": "execute_result"
    }
   ],
   "source": [
    "a[:-2]   # everything except the last two items"
   ]
  },
  {
   "cell_type": "code",
   "execution_count": 13,
   "metadata": {},
   "outputs": [
    {
     "data": {
      "text/plain": [
       "[1, 3, 5, 7, 9]"
      ]
     },
     "execution_count": 13,
     "metadata": {},
     "output_type": "execute_result"
    }
   ],
   "source": [
    "a[::2] "
   ]
  },
  {
   "cell_type": "markdown",
   "metadata": {},
   "source": [
    "# Parse csv file"
   ]
  },
  {
   "cell_type": "code",
   "execution_count": 15,
   "metadata": {},
   "outputs": [
    {
     "name": "stdout",
     "output_type": "stream",
     "text": [
      "-------------------------------------------------------------------------------\n",
      "1. This is a raw line:\n",
      "'Name,Job Titles,Department,Full or Part-Time,Salary or Hourly,Typical Hours,Annual Salary,Hourly Rate\\n'\n",
      "-------------------------------------------------------------------------------\n",
      "2. This is a list\n",
      "['Name', 'Job Titles', 'Department', 'Full or Part-Time', 'Salary or Hourly', 'Typical Hours', 'Annual Salary', 'Hourly Rate\\n']\n",
      "-------------------------------------------------------------------------------\n",
      "3. This is a Salary\n",
      "'Hourly Rate\\n'\n",
      "-------------------------------------------------------------------------------\n",
      "1. This is a raw line:\n",
      "'\"AARON,  JEFFERY M\",SERGEANT,POLICE,F,Salary,,$101442.00,\\n'\n",
      "-------------------------------------------------------------------------------\n",
      "2. This is a list\n",
      "['\"AARON', '  JEFFERY M\"', 'SERGEANT', 'POLICE', 'F', 'Salary', '', '$101442.00', '\\n']\n",
      "-------------------------------------------------------------------------------\n",
      "3. This is a Salary\n",
      "'$101442.00'\n",
      "-------------------------------------------------------------------------------\n",
      "1. This is a raw line:\n",
      "'\"AARON,  KARINA \",POLICE OFFICER (ASSIGNED AS DETECTIVE),POLICE,F,Salary,,$94122.00,\\n'\n",
      "-------------------------------------------------------------------------------\n",
      "2. This is a list\n",
      "['\"AARON', '  KARINA \"', 'POLICE OFFICER (ASSIGNED AS DETECTIVE)', 'POLICE', 'F', 'Salary', '', '$94122.00', '\\n']\n",
      "-------------------------------------------------------------------------------\n",
      "3. This is a Salary\n",
      "'$94122.00'\n",
      "-------------------------------------------------------------------------------\n",
      "1. This is a raw line:\n",
      "'\"AARON,  KIMBERLEI R\",CHIEF CONTRACT EXPEDITER,GENERAL SERVICES,F,Salary,,$101592.00,\\n'\n",
      "-------------------------------------------------------------------------------\n",
      "2. This is a list\n",
      "['\"AARON', '  KIMBERLEI R\"', 'CHIEF CONTRACT EXPEDITER', 'GENERAL SERVICES', 'F', 'Salary', '', '$101592.00', '\\n']\n",
      "-------------------------------------------------------------------------------\n",
      "3. This is a Salary\n",
      "'$101592.00'\n",
      "-------------------------------------------------------------------------------\n",
      "1. This is a raw line:\n",
      "'\"ABAD JR,  VICENTE M\",CIVIL ENGINEER IV,WATER MGMNT,F,Salary,,$110064.00,\\n'\n",
      "-------------------------------------------------------------------------------\n",
      "2. This is a list\n",
      "['\"ABAD JR', '  VICENTE M\"', 'CIVIL ENGINEER IV', 'WATER MGMNT', 'F', 'Salary', '', '$110064.00', '\\n']\n",
      "-------------------------------------------------------------------------------\n",
      "3. This is a Salary\n",
      "'$110064.00'\n",
      "-------------------------------------------------------------------------------\n",
      "1. This is a raw line:\n",
      "'\"ABASCAL,  REECE E\",TRAFFIC CONTROL AIDE-HOURLY,OEMC,P,Hourly,20,,$19.86'\n",
      "-------------------------------------------------------------------------------\n",
      "2. This is a list\n",
      "['\"ABASCAL', '  REECE E\"', 'TRAFFIC CONTROL AIDE-HOURLY', 'OEMC', 'P', 'Hourly', '20', '', '$19.86']\n",
      "-------------------------------------------------------------------------------\n",
      "3. This is a Salary\n",
      "''\n"
     ]
    }
   ],
   "source": [
    "for line in open('salaries_p.csv'):\n",
    "    print('-------------------------------------------------------------------------------')\n",
    "    print('1. This is a raw line:')\n",
    "    print(repr(line))\n",
    "    \n",
    "    print('-------------------------------------------------------------------------------')\n",
    "    print('2. This is a list')\n",
    "    row = line.split(',')\n",
    "    print(repr(row))\n",
    "    \n",
    "    print('-------------------------------------------------------------------------------')\n",
    "    print(\"3. This is a Salary\")\n",
    "    print(repr(row[7]))"
   ]
  },
  {
   "cell_type": "markdown",
   "metadata": {},
   "source": [
    "### Which columns need to be cleaned?"
   ]
  },
  {
   "cell_type": "raw",
   "metadata": {},
   "source": [
    "['\"ABASCAL', '  REECE E\"', 'TRAFFIC CONTROL AIDE-HOURLY', 'OEMC', 'P', 'Hourly', '20', '', '$19.86']\n",
    "['\"ABAD JR', '  VICENTE M\"', 'CIVIL ENGINEER IV', 'WATER MGMNT', 'F', 'Salary', '', '$110064.00', '\\n']"
   ]
  },
  {
   "cell_type": "markdown",
   "metadata": {},
   "source": [
    "# Count over interation "
   ]
  },
  {
   "cell_type": "markdown",
   "metadata": {},
   "source": [
    "Goal: Given a list, what is the number of occurance for each letter: a,b,c,d?"
   ]
  },
  {
   "cell_type": "code",
   "execution_count": 4,
   "metadata": {},
   "outputs": [],
   "source": [
    "l = ['a','b','c','d','c','d','b','d','c','c']"
   ]
  },
  {
   "cell_type": "code",
   "execution_count": 5,
   "metadata": {},
   "outputs": [],
   "source": [
    "def count(letter,l):\n",
    "    '''\n",
    "    Count the number of total occurance for each letter in l\n",
    "    '''\n",
    "    count = 0\n",
    "    for i in l:\n",
    "        if i == letter:\n",
    "            count += 1\n",
    "    return count"
   ]
  },
  {
   "cell_type": "code",
   "execution_count": 6,
   "metadata": {},
   "outputs": [
    {
     "data": {
      "text/plain": [
       "1"
      ]
     },
     "execution_count": 6,
     "metadata": {},
     "output_type": "execute_result"
    }
   ],
   "source": [
    "count('a',l)"
   ]
  },
  {
   "cell_type": "code",
   "execution_count": 7,
   "metadata": {},
   "outputs": [
    {
     "data": {
      "text/plain": [
       "2"
      ]
     },
     "execution_count": 7,
     "metadata": {},
     "output_type": "execute_result"
    }
   ],
   "source": [
    "count('b',l)"
   ]
  },
  {
   "cell_type": "code",
   "execution_count": 8,
   "metadata": {},
   "outputs": [
    {
     "data": {
      "text/plain": [
       "4"
      ]
     },
     "execution_count": 8,
     "metadata": {},
     "output_type": "execute_result"
    }
   ],
   "source": [
    "count('c',l)"
   ]
  },
  {
   "cell_type": "code",
   "execution_count": 9,
   "metadata": {},
   "outputs": [
    {
     "data": {
      "text/plain": [
       "3"
      ]
     },
     "execution_count": 9,
     "metadata": {},
     "output_type": "execute_result"
    }
   ],
   "source": [
    "count('d',l)"
   ]
  },
  {
   "cell_type": "markdown",
   "metadata": {},
   "source": [
    "We need to call the function 4 times, which is not very efficient. If there are 100 unique letter in the list, we need to call the function 100 times."
   ]
  },
  {
   "cell_type": "code",
   "execution_count": 10,
   "metadata": {},
   "outputs": [
    {
     "data": {
      "text/plain": [
       "{'a', 'b', 'c', 'd'}"
      ]
     },
     "execution_count": 10,
     "metadata": {},
     "output_type": "execute_result"
    }
   ],
   "source": [
    "# Get a unique set of letter in list\n",
    "s = set(l)\n",
    "s"
   ]
  },
  {
   "cell_type": "code",
   "execution_count": 11,
   "metadata": {},
   "outputs": [],
   "source": [
    "def better_count(s,l):\n",
    "    d = {}\n",
    "    for letter in s:\n",
    "        d[letter]=count(letter,l)\n",
    "    return d "
   ]
  },
  {
   "cell_type": "code",
   "execution_count": 12,
   "metadata": {},
   "outputs": [
    {
     "data": {
      "text/plain": [
       "{'a': 1, 'b': 2, 'c': 4, 'd': 3}"
      ]
     },
     "execution_count": 12,
     "metadata": {},
     "output_type": "execute_result"
    }
   ],
   "source": [
    "better_count(s,l)"
   ]
  },
  {
   "cell_type": "markdown",
   "metadata": {},
   "source": [
    "# How to call your helper function from other file"
   ]
  },
  {
   "cell_type": "code",
   "execution_count": 13,
   "metadata": {},
   "outputs": [],
   "source": [
    "import helper # the file name of your helper function w/o file suffix"
   ]
  },
  {
   "cell_type": "code",
   "execution_count": 16,
   "metadata": {},
   "outputs": [
    {
     "data": {
      "text/plain": [
       "1"
      ]
     },
     "execution_count": 16,
     "metadata": {},
     "output_type": "execute_result"
    }
   ],
   "source": [
    "helper.count('a',l)"
   ]
  },
  {
   "cell_type": "code",
   "execution_count": 17,
   "metadata": {},
   "outputs": [
    {
     "data": {
      "text/plain": [
       "{'a': 1, 'b': 2, 'c': 4, 'd': 3}"
      ]
     },
     "execution_count": 17,
     "metadata": {},
     "output_type": "execute_result"
    }
   ],
   "source": [
    "helper.better_count(s,l)"
   ]
  },
  {
   "cell_type": "markdown",
   "metadata": {},
   "source": [
    "If you are using jupyter notebook, you need to restart the Kernel whenever you make change to your helper.py "
   ]
  },
  {
   "cell_type": "code",
   "execution_count": null,
   "metadata": {},
   "outputs": [],
   "source": []
  }
 ],
 "metadata": {
  "kernelspec": {
   "display_name": "Python 3",
   "language": "python",
   "name": "python3"
  },
  "language_info": {
   "codemirror_mode": {
    "name": "ipython",
    "version": 3
   },
   "file_extension": ".py",
   "mimetype": "text/x-python",
   "name": "python",
   "nbconvert_exporter": "python",
   "pygments_lexer": "ipython3",
   "version": "3.6.1"
  }
 },
 "nbformat": 4,
 "nbformat_minor": 2
}
